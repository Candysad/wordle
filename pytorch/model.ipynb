{
 "cells": [
  {
   "cell_type": "code",
   "execution_count": 1,
   "metadata": {},
   "outputs": [],
   "source": [
    "from game_core import Wordle\n",
    "\n",
    "from typing import Tuple\n",
    "import torch\n",
    "from torch import Tensor\n",
    "from torch.nn import Linear, Softmax, Dropout, LeakyReLU, Module, Tanh, Flatten, CrossEntropyLoss"
   ]
  },
  {
   "cell_type": "code",
   "execution_count": 2,
   "metadata": {},
   "outputs": [],
   "source": [
    "class Guesser(Module):\n",
    "    def __init__(self, n) -> None:\n",
    "        super().__init__()\n",
    "        \n",
    "        self.n = n\n",
    "        self.in_feature = Linear(26 * (n + 1), 2048)\n",
    "        self.leakyRelu = LeakyReLU()\n",
    "        self.tanh = Tanh()\n",
    "        self.dropout = Dropout()\n",
    "        self.out_feature = Linear(2048, 26 * n)\n",
    "        \n",
    "        self.loss = CrossEntropyLoss()\n",
    "    \n",
    "    def forward(self, x:Tensor, label:Tensor=None) -> Tuple[Tensor, Tensor]:\n",
    "        x = self.encode_input(x)\n",
    "        x = self.in_feature(x)\n",
    "        x = self.leakyRelu(x)\n",
    "        x = self.tanh(x)\n",
    "        x = self.dropout(x)\n",
    "        x = self.out_feature(x)\n",
    "        x = self.decode_output(x)\n",
    "        \n",
    "        loss = None\n",
    "        if label is not None:\n",
    "            loss = self.loss(x, label)\n",
    "        return x, loss\n",
    "    \n",
    "    def encode_input(self, x:Tensor) -> Tensor:\n",
    "        batch_size = x.shape[0]\n",
    "        x = x.reshape(batch_size, ((self.n + 1) * 26))\n",
    "        return x\n",
    "\n",
    "    def decode_output(self, x:Tensor) -> Tensor:\n",
    "        batch_size = x.shape[0]\n",
    "        x = x.reshape((batch_size, self.n, 26))\n",
    "        return x\n",
    "\n",
    "    def save(self, save_path):\n",
    "        '''\n",
    "        save_path: path to the file\n",
    "        e.g. './model/saved_model/save.bin'\n",
    "        '''\n",
    "        model_state_dict = self.state_dict()\n",
    "        torch.save(model_state_dict, save_path)\n",
    "        \n",
    "    def load(self, save_path):\n",
    "        '''\n",
    "        save_path: path to the file\n",
    "        e.g. './model/saved_model/save.bin'\n",
    "        '''\n",
    "        self.load_state_dict(torch.load(save_path))"
   ]
  },
  {
   "cell_type": "code",
   "execution_count": 3,
   "metadata": {},
   "outputs": [],
   "source": [
    "wordle = Wordle(target=\"scone\", training=True)\n",
    "guesser = Guesser(n=5)"
   ]
  },
  {
   "cell_type": "code",
   "execution_count": 4,
   "metadata": {},
   "outputs": [
    {
     "name": "stdout",
     "output_type": "stream",
     "text": [
      "torch.Size([1, 1, 6, 26])\n"
     ]
    }
   ],
   "source": [
    "x = torch.stack((wordle.query(),))\n",
    "print(x.shape)"
   ]
  }
 ],
 "metadata": {
  "kernelspec": {
   "display_name": "vision",
   "language": "python",
   "name": "python3"
  },
  "language_info": {
   "codemirror_mode": {
    "name": "ipython",
    "version": 3
   },
   "file_extension": ".py",
   "mimetype": "text/x-python",
   "name": "python",
   "nbconvert_exporter": "python",
   "pygments_lexer": "ipython3",
   "version": "3.10.13"
  }
 },
 "nbformat": 4,
 "nbformat_minor": 2
}
