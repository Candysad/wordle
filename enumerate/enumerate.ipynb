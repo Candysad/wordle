{
 "cells": [
  {
   "cell_type": "code",
   "execution_count": 1,
   "metadata": {},
   "outputs": [],
   "source": [
    "from typing import List\n",
    "\n",
    "class Guesser:\n",
    "    def __init__(self, n:int=5) -> None:\n",
    "        self.n = n\n",
    "        self.correct = [-1] * n\n",
    "        self.notcorrect = [0] * n\n",
    "        self.has = set()\n",
    "        self.nothas = 0\n",
    "        \n",
    "        self.data = []\n",
    "        with open('../words/possible_words.txt', mode='r', encoding='utf-8') as f: \n",
    "            for line in f:\n",
    "                self.data.append(line[:-1])\n",
    "    \n",
    "    def update(self, word:str, stat:str) -> None:\n",
    "        assert len(word) == len(stat) == self.n \n",
    "        word = word.lower() \n",
    "        stat = stat.lower()\n",
    "        n = self.n\n",
    "        \n",
    "        correct, notcorrect = self.correct, self.notcorrect\n",
    "        for i in range(n):\n",
    "            oc = word[i]\n",
    "            c = ord(oc) - ord('a')\n",
    "            s = stat[i]\n",
    "            \n",
    "            \n",
    "            # correct\n",
    "            if s == '1':\n",
    "                self.has.add(oc)\n",
    "                correct[i] = c\n",
    "                \n",
    "                alls = (1 << 26) - 1\n",
    "                notcorrect[i] = alls ^ (1 << c)\n",
    "                \n",
    "            # has\n",
    "            elif s == '0':\n",
    "                self.has.add(oc)\n",
    "                notcorrect[i] |= 1 << c\n",
    "            \n",
    "            # not has\n",
    "            else:\n",
    "                self.nothas |= 1 << c\n",
    "                notcorrect[i] |= 1 << c\n",
    "\n",
    "    def candidate(self) -> List[str]:\n",
    "        correct, notcorrect = self.correct, self.notcorrect\n",
    "        # print(correct)\n",
    "        # for nc in notcorrect:\n",
    "        #     p(\"not correct \", nc)\n",
    "        # print(\"has\", self.has)\n",
    "        # p(\"not has \", self.nothas)\n",
    "            \n",
    "        result = []\n",
    "        for word in self.data:\n",
    "            r = True\n",
    "            for c in self.has:\n",
    "                if c not in word: \n",
    "                    r = False\n",
    "                    break\n",
    "            if not r: continue\n",
    "            \n",
    "            \n",
    "            for i, c in enumerate(word):\n",
    "                c = ord(c) - ord('a')\n",
    "                if (self.nothas >> c) & 1:\n",
    "                    r = False\n",
    "                    break\n",
    "                \n",
    "                if self.correct[i] != -1:\n",
    "                    if correct[i] != c:\n",
    "                        r = False\n",
    "                        break\n",
    "                else:\n",
    "                    if (notcorrect[i] >> c) & 1:\n",
    "                        r = False\n",
    "                        break\n",
    "                \n",
    "            if r:\n",
    "                result.append(word)\n",
    "        return result"
   ]
  },
  {
   "cell_type": "code",
   "execution_count": 2,
   "metadata": {},
   "outputs": [
    {
     "data": {
      "text/plain": [
       "['eager',\n",
       " 'eagle',\n",
       " 'early',\n",
       " 'easel',\n",
       " 'eater',\n",
       " 'elate',\n",
       " 'erase',\n",
       " 'essay',\n",
       " 'exalt',\n",
       " 'extra',\n",
       " 'false',\n",
       " 'flake',\n",
       " 'flame',\n",
       " 'flare',\n",
       " 'frame',\n",
       " 'freak',\n",
       " 'gaffe',\n",
       " 'gamer',\n",
       " 'gavel',\n",
       " 'gayer',\n",
       " 'gazer',\n",
       " 'glare',\n",
       " 'glaze',\n",
       " 'gleam',\n",
       " 'grape',\n",
       " 'grate',\n",
       " 'grave',\n",
       " 'graze',\n",
       " 'great',\n",
       " 'lager',\n",
       " 'lapel',\n",
       " 'lapse',\n",
       " 'large',\n",
       " 'later',\n",
       " 'latte',\n",
       " 'layer',\n",
       " 'maker',\n",
       " 'maple',\n",
       " 'masse',\n",
       " 'matey',\n",
       " 'paler',\n",
       " 'paper',\n",
       " 'parer',\n",
       " 'parse',\n",
       " 'paste',\n",
       " 'payee',\n",
       " 'payer',\n",
       " 'plate',\n",
       " 'pleat',\n",
       " 'rarer',\n",
       " 'safer',\n",
       " 'salve',\n",
       " 'skate',\n",
       " 'slate',\n",
       " 'smear',\n",
       " 'spare',\n",
       " 'speak',\n",
       " 'spear',\n",
       " 'stage',\n",
       " 'stake',\n",
       " 'stale',\n",
       " 'stare',\n",
       " 'state',\n",
       " 'stave',\n",
       " 'steak',\n",
       " 'steal',\n",
       " 'steam',\n",
       " 'swear',\n",
       " 'sweat',\n",
       " 'taker',\n",
       " 'tamer',\n",
       " 'taper',\n",
       " 'taste',\n",
       " 'treat',\n",
       " 'tweak',\n",
       " 'valet',\n",
       " 'valve',\n",
       " 'wafer',\n",
       " 'wager',\n",
       " 'waste',\n",
       " 'water',\n",
       " 'waver',\n",
       " 'wreak']"
      ]
     },
     "execution_count": 2,
     "metadata": {},
     "output_type": "execute_result"
    }
   ],
   "source": [
    "guesser = Guesser()\n",
    "guesser.update(\"audio\", \"02222\")\n",
    "guesser.update(\"bench\", \"20222\")\n",
    "guesser.candidate()"
   ]
  },
  {
   "cell_type": "code",
   "execution_count": 3,
   "metadata": {},
   "outputs": [
    {
     "data": {
      "text/plain": [
       "['eater', 'later']"
      ]
     },
     "execution_count": 3,
     "metadata": {},
     "output_type": "execute_result"
    }
   ],
   "source": [
    "guesser.update(\"water\", \"21111\")\n",
    "guesser.candidate()"
   ]
  },
  {
   "cell_type": "code",
   "execution_count": 135,
   "metadata": {},
   "outputs": [
    {
     "data": {
      "text/plain": [
       "['eater', 'later']"
      ]
     },
     "execution_count": 135,
     "metadata": {},
     "output_type": "execute_result"
    }
   ],
   "source": [
    "guesser.update(\"water\", \"21111\")\n",
    "guesser.candidate()"
   ]
  },
  {
   "cell_type": "code",
   "execution_count": null,
   "metadata": {},
   "outputs": [],
   "source": []
  }
 ],
 "metadata": {
  "kernelspec": {
   "display_name": "Python 3",
   "language": "python",
   "name": "python3"
  },
  "language_info": {
   "codemirror_mode": {
    "name": "ipython",
    "version": 3
   },
   "file_extension": ".py",
   "mimetype": "text/x-python",
   "name": "python",
   "nbconvert_exporter": "python",
   "pygments_lexer": "ipython3",
   "version": "3.10.4"
  }
 },
 "nbformat": 4,
 "nbformat_minor": 2
}
